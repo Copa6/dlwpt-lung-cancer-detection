{
 "cells": [
  {
   "cell_type": "code",
   "execution_count": 1,
   "metadata": {
    "ExecuteTime": {
     "end_time": "2020-10-14T03:20:13.783898Z",
     "start_time": "2020-10-14T03:20:12.789457Z"
    }
   },
   "outputs": [],
   "source": [
    "import SimpleITK as sitk\n",
    "import numpy as np"
   ]
  },
  {
   "cell_type": "code",
   "execution_count": 7,
   "metadata": {
    "ExecuteTime": {
     "end_time": "2020-10-14T03:24:05.767008Z",
     "start_time": "2020-10-14T03:24:05.623249Z"
    }
   },
   "outputs": [],
   "source": [
    "file = \"../data/subset0/1.3.6.1.4.1.14519.5.2.1.6279.6001.105756658031515062000744821260.mhd\"\n",
    "ct_mhd = sitk.ReadImage(file)\n",
    "ct_arr = np.array(sitk.GetArrayFromImage(ct_mhd), np.float32)\n",
    "ct = np.clip(ct_arr, -1000, 1000)"
   ]
  },
  {
   "cell_type": "code",
   "execution_count": 8,
   "metadata": {
    "ExecuteTime": {
     "end_time": "2020-10-14T03:24:19.706366Z",
     "start_time": "2020-10-14T03:24:19.701042Z"
    }
   },
   "outputs": [],
   "source": [
    "ct_shape = ct.shape\n",
    "slice_list = []\n",
    "slice_dimensions = [48, 32, 32]\n",
    "center_irc = [50, 40, 40]\n",
    "for i, dim in enumerate(slice_dimensions):\n",
    "    start_idx = center_irc[i] + dim//2\n",
    "    end_idx = start_idx + dim\n",
    "\n",
    "    if start_idx < 0:\n",
    "        start_idx = 0\n",
    "        end_idx = dim\n",
    "\n",
    "    if end_idx > ct_shape[i]:\n",
    "        start_idx = ct_shape[i] - dim\n",
    "        end_idx = ct_shape[i]\n",
    "\n",
    "    slice_list.append(slice(start_idx, end_idx))\n",
    "\n",
    "ct_slice = ct[tuple(slice_list)]"
   ]
  },
  {
   "cell_type": "code",
   "execution_count": 10,
   "metadata": {
    "ExecuteTime": {
     "end_time": "2020-10-14T03:24:35.644523Z",
     "start_time": "2020-10-14T03:24:35.641270Z"
    }
   },
   "outputs": [
    {
     "data": {
      "text/plain": [
       "(48, 32, 32)"
      ]
     },
     "execution_count": 10,
     "metadata": {},
     "output_type": "execute_result"
    }
   ],
   "source": [
    "ct_slice.shape"
   ]
  },
  {
   "cell_type": "code",
   "execution_count": 12,
   "metadata": {
    "ExecuteTime": {
     "end_time": "2020-10-14T03:31:07.794215Z",
     "start_time": "2020-10-14T03:31:07.706532Z"
    }
   },
   "outputs": [],
   "source": [
    "import torch\n",
    "import torch.nn.functional as F"
   ]
  },
  {
   "cell_type": "code",
   "execution_count": 32,
   "metadata": {
    "ExecuteTime": {
     "end_time": "2020-10-14T03:41:02.415193Z",
     "start_time": "2020-10-14T03:41:02.409553Z"
    }
   },
   "outputs": [
    {
     "name": "stdout",
     "output_type": "stream",
     "text": [
      "torch.Size([1, 1, 4, 3, 3])\n"
     ]
    },
    {
     "data": {
      "text/plain": [
       "tensor([[[[[0.8454, 0.8988, 0.2442],\n",
       "           [0.0788, 0.5924, 0.8540],\n",
       "           [0.0335, 0.1380, 0.4017]],\n",
       "\n",
       "          [[0.3564, 0.2630, 0.3144],\n",
       "           [0.7082, 0.6668, 0.1703],\n",
       "           [0.3695, 0.5085, 0.4956]],\n",
       "\n",
       "          [[0.9106, 0.4787, 0.7329],\n",
       "           [0.1373, 0.2357, 0.7227],\n",
       "           [0.7239, 0.6273, 0.9940]],\n",
       "\n",
       "          [[0.9333, 0.9122, 0.5482],\n",
       "           [0.6726, 0.6906, 0.9040],\n",
       "           [0.0336, 0.8657, 0.5447]]]]])"
      ]
     },
     "execution_count": 32,
     "metadata": {},
     "output_type": "execute_result"
    }
   ],
   "source": [
    "dummy = torch.rand(4, 3, 3).unsqueeze(0).unsqueeze(0).to(torch.float32)\n",
    "print(dummy.shape)\n",
    "dummy"
   ]
  },
  {
   "cell_type": "code",
   "execution_count": 33,
   "metadata": {
    "ExecuteTime": {
     "end_time": "2020-10-14T03:41:03.318791Z",
     "start_time": "2020-10-14T03:41:03.046223Z"
    }
   },
   "outputs": [
    {
     "data": {
      "text/plain": [
       "tensor([[1., 0., 0., 0.],\n",
       "        [0., 1., 0., 0.],\n",
       "        [0., 0., 1., 0.],\n",
       "        [0., 0., 0., 1.]])"
      ]
     },
     "execution_count": 33,
     "metadata": {},
     "output_type": "execute_result"
    }
   ],
   "source": [
    "transform_t = torch.eye(4)\n",
    "transform_t"
   ]
  },
  {
   "cell_type": "code",
   "execution_count": 34,
   "metadata": {
    "ExecuteTime": {
     "end_time": "2020-10-14T03:41:04.685897Z",
     "start_time": "2020-10-14T03:41:04.680983Z"
    }
   },
   "outputs": [
    {
     "data": {
      "text/plain": [
       "tensor([[-1.,  0.,  0.,  0.],\n",
       "        [ 0., -1.,  0.,  0.],\n",
       "        [ 0.,  0., -1.,  0.],\n",
       "        [ 0.,  0.,  0.,  1.]])"
      ]
     },
     "execution_count": 34,
     "metadata": {},
     "output_type": "execute_result"
    }
   ],
   "source": [
    "# flip\n",
    "for i in range(3):\n",
    "    transform_t[i, i] *= -1\n",
    "\n",
    "flipped_t = transform_t\n",
    "flipped_t"
   ]
  },
  {
   "cell_type": "code",
   "execution_count": 35,
   "metadata": {
    "ExecuteTime": {
     "end_time": "2020-10-14T03:41:05.347355Z",
     "start_time": "2020-10-14T03:41:04.873964Z"
    }
   },
   "outputs": [
    {
     "data": {
      "text/plain": [
       "tensor([[[-1.,  0.,  0.,  0.],\n",
       "         [ 0., -1.,  0.,  0.],\n",
       "         [ 0.,  0., -1.,  0.]]])"
      ]
     },
     "execution_count": 35,
     "metadata": {},
     "output_type": "execute_result"
    }
   ],
   "source": [
    "transform_t[:3].unsqueeze(0)"
   ]
  },
  {
   "cell_type": "code",
   "execution_count": 38,
   "metadata": {
    "ExecuteTime": {
     "end_time": "2020-10-14T03:42:05.804048Z",
     "start_time": "2020-10-14T03:42:05.799306Z"
    }
   },
   "outputs": [
    {
     "data": {
      "text/plain": [
       "torch.Size([1, 4, 3, 3, 3])"
      ]
     },
     "execution_count": 38,
     "metadata": {},
     "output_type": "execute_result"
    }
   ],
   "source": [
    "affine_t = F.affine_grid(\n",
    "            transform_t[:3].unsqueeze(0).to(torch.float32),\n",
    "            dummy.size(),\n",
    "            align_corners=False,\n",
    "        )\n",
    "affine_t.shape"
   ]
  },
  {
   "cell_type": "code",
   "execution_count": 39,
   "metadata": {
    "ExecuteTime": {
     "end_time": "2020-10-14T03:43:02.468518Z",
     "start_time": "2020-10-14T03:43:02.066688Z"
    }
   },
   "outputs": [],
   "source": [
    "dummy_flipped = F.grid_sample(\n",
    "            dummy,\n",
    "            affine_t,\n",
    "            padding_mode='border',\n",
    "            align_corners=False,\n",
    "        ).to('cpu')"
   ]
  },
  {
   "cell_type": "code",
   "execution_count": 40,
   "metadata": {
    "ExecuteTime": {
     "end_time": "2020-10-14T03:43:08.061899Z",
     "start_time": "2020-10-14T03:43:08.057659Z"
    }
   },
   "outputs": [
    {
     "data": {
      "text/plain": [
       "tensor([[[[[0.5447, 0.8657, 0.0336],\n",
       "           [0.9040, 0.6906, 0.6726],\n",
       "           [0.5482, 0.9122, 0.9333]],\n",
       "\n",
       "          [[0.9940, 0.6273, 0.7239],\n",
       "           [0.7227, 0.2357, 0.1373],\n",
       "           [0.7329, 0.4787, 0.9106]],\n",
       "\n",
       "          [[0.4956, 0.5085, 0.3695],\n",
       "           [0.1703, 0.6668, 0.7082],\n",
       "           [0.3144, 0.2630, 0.3564]],\n",
       "\n",
       "          [[0.4017, 0.1380, 0.0335],\n",
       "           [0.8540, 0.5924, 0.0788],\n",
       "           [0.2442, 0.8988, 0.8454]]]]])"
      ]
     },
     "execution_count": 40,
     "metadata": {},
     "output_type": "execute_result"
    }
   ],
   "source": [
    "dummy_flipped"
   ]
  },
  {
   "cell_type": "code",
   "execution_count": 41,
   "metadata": {
    "ExecuteTime": {
     "end_time": "2020-10-14T03:43:28.963167Z",
     "start_time": "2020-10-14T03:43:28.959152Z"
    }
   },
   "outputs": [
    {
     "data": {
      "text/plain": [
       "tensor([[[[[0.8454, 0.8988, 0.2442],\n",
       "           [0.0788, 0.5924, 0.8540],\n",
       "           [0.0335, 0.1380, 0.4017]],\n",
       "\n",
       "          [[0.3564, 0.2630, 0.3144],\n",
       "           [0.7082, 0.6668, 0.1703],\n",
       "           [0.3695, 0.5085, 0.4956]],\n",
       "\n",
       "          [[0.9106, 0.4787, 0.7329],\n",
       "           [0.1373, 0.2357, 0.7227],\n",
       "           [0.7239, 0.6273, 0.9940]],\n",
       "\n",
       "          [[0.9333, 0.9122, 0.5482],\n",
       "           [0.6726, 0.6906, 0.9040],\n",
       "           [0.0336, 0.8657, 0.5447]]]]])"
      ]
     },
     "execution_count": 41,
     "metadata": {},
     "output_type": "execute_result"
    }
   ],
   "source": [
    "dummy"
   ]
  },
  {
   "cell_type": "code",
   "execution_count": null,
   "metadata": {},
   "outputs": [],
   "source": []
  }
 ],
 "metadata": {
  "kernelspec": {
   "display_name": "Python 3",
   "language": "python",
   "name": "python3"
  },
  "language_info": {
   "codemirror_mode": {
    "name": "ipython",
    "version": 3
   },
   "file_extension": ".py",
   "mimetype": "text/x-python",
   "name": "python",
   "nbconvert_exporter": "python",
   "pygments_lexer": "ipython3",
   "version": "3.6.10"
  }
 },
 "nbformat": 4,
 "nbformat_minor": 4
}
