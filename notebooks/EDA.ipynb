{
 "cells": [
  {
   "cell_type": "code",
   "execution_count": 1,
   "metadata": {
    "ExecuteTime": {
     "end_time": "2020-10-05T02:38:21.036483Z",
     "start_time": "2020-10-05T02:38:18.551565Z"
    }
   },
   "outputs": [],
   "source": [
    "import pandas as pd\n",
    "import numpy as np"
   ]
  },
  {
   "cell_type": "code",
   "execution_count": 2,
   "metadata": {
    "ExecuteTime": {
     "end_time": "2020-10-05T02:38:21.039451Z",
     "start_time": "2020-10-05T02:38:21.037564Z"
    }
   },
   "outputs": [],
   "source": [
    "data_dir = \"../data/\"\n",
    "annotations = \"../data/annotations.csv\"\n",
    "candidates = \"../data/candidates.csv\""
   ]
  },
  {
   "cell_type": "code",
   "execution_count": 3,
   "metadata": {
    "ExecuteTime": {
     "end_time": "2020-10-05T02:38:21.513789Z",
     "start_time": "2020-10-05T02:38:21.040385Z"
    }
   },
   "outputs": [
    {
     "data": {
      "text/html": [
       "<div>\n",
       "<style scoped>\n",
       "    .dataframe tbody tr th:only-of-type {\n",
       "        vertical-align: middle;\n",
       "    }\n",
       "\n",
       "    .dataframe tbody tr th {\n",
       "        vertical-align: top;\n",
       "    }\n",
       "\n",
       "    .dataframe thead th {\n",
       "        text-align: right;\n",
       "    }\n",
       "</style>\n",
       "<table border=\"1\" class=\"dataframe\">\n",
       "  <thead>\n",
       "    <tr style=\"text-align: right;\">\n",
       "      <th></th>\n",
       "      <th>seriesuid</th>\n",
       "      <th>coordX</th>\n",
       "      <th>coordY</th>\n",
       "      <th>coordZ</th>\n",
       "      <th>diameter_mm</th>\n",
       "    </tr>\n",
       "  </thead>\n",
       "  <tbody>\n",
       "    <tr>\n",
       "      <th>0</th>\n",
       "      <td>1.3.6.1.4.1.14519.5.2.1.6279.6001.100225287222...</td>\n",
       "      <td>-128.699421</td>\n",
       "      <td>-175.319272</td>\n",
       "      <td>-298.387506</td>\n",
       "      <td>5.651471</td>\n",
       "    </tr>\n",
       "    <tr>\n",
       "      <th>1</th>\n",
       "      <td>1.3.6.1.4.1.14519.5.2.1.6279.6001.100225287222...</td>\n",
       "      <td>103.783651</td>\n",
       "      <td>-211.925149</td>\n",
       "      <td>-227.121250</td>\n",
       "      <td>4.224708</td>\n",
       "    </tr>\n",
       "    <tr>\n",
       "      <th>2</th>\n",
       "      <td>1.3.6.1.4.1.14519.5.2.1.6279.6001.100398138793...</td>\n",
       "      <td>69.639017</td>\n",
       "      <td>-140.944586</td>\n",
       "      <td>876.374496</td>\n",
       "      <td>5.786348</td>\n",
       "    </tr>\n",
       "    <tr>\n",
       "      <th>3</th>\n",
       "      <td>1.3.6.1.4.1.14519.5.2.1.6279.6001.100621383016...</td>\n",
       "      <td>-24.013824</td>\n",
       "      <td>192.102405</td>\n",
       "      <td>-391.081276</td>\n",
       "      <td>8.143262</td>\n",
       "    </tr>\n",
       "    <tr>\n",
       "      <th>4</th>\n",
       "      <td>1.3.6.1.4.1.14519.5.2.1.6279.6001.100621383016...</td>\n",
       "      <td>2.441547</td>\n",
       "      <td>172.464881</td>\n",
       "      <td>-405.493732</td>\n",
       "      <td>18.545150</td>\n",
       "    </tr>\n",
       "  </tbody>\n",
       "</table>\n",
       "</div>"
      ],
      "text/plain": [
       "                                           seriesuid      coordX      coordY  \\\n",
       "0  1.3.6.1.4.1.14519.5.2.1.6279.6001.100225287222... -128.699421 -175.319272   \n",
       "1  1.3.6.1.4.1.14519.5.2.1.6279.6001.100225287222...  103.783651 -211.925149   \n",
       "2  1.3.6.1.4.1.14519.5.2.1.6279.6001.100398138793...   69.639017 -140.944586   \n",
       "3  1.3.6.1.4.1.14519.5.2.1.6279.6001.100621383016...  -24.013824  192.102405   \n",
       "4  1.3.6.1.4.1.14519.5.2.1.6279.6001.100621383016...    2.441547  172.464881   \n",
       "\n",
       "       coordZ  diameter_mm  \n",
       "0 -298.387506     5.651471  \n",
       "1 -227.121250     4.224708  \n",
       "2  876.374496     5.786348  \n",
       "3 -391.081276     8.143262  \n",
       "4 -405.493732    18.545150  "
      ]
     },
     "execution_count": 3,
     "metadata": {},
     "output_type": "execute_result"
    }
   ],
   "source": [
    "annotations_df = pd.read_csv(annotations)\n",
    "annotations_df.head()"
   ]
  },
  {
   "cell_type": "code",
   "execution_count": 4,
   "metadata": {
    "ExecuteTime": {
     "end_time": "2020-10-05T02:38:23.827190Z",
     "start_time": "2020-10-05T02:38:22.779720Z"
    }
   },
   "outputs": [
    {
     "data": {
      "text/html": [
       "<div>\n",
       "<style scoped>\n",
       "    .dataframe tbody tr th:only-of-type {\n",
       "        vertical-align: middle;\n",
       "    }\n",
       "\n",
       "    .dataframe tbody tr th {\n",
       "        vertical-align: top;\n",
       "    }\n",
       "\n",
       "    .dataframe thead th {\n",
       "        text-align: right;\n",
       "    }\n",
       "</style>\n",
       "<table border=\"1\" class=\"dataframe\">\n",
       "  <thead>\n",
       "    <tr style=\"text-align: right;\">\n",
       "      <th></th>\n",
       "      <th>seriesuid</th>\n",
       "      <th>coordX</th>\n",
       "      <th>coordY</th>\n",
       "      <th>coordZ</th>\n",
       "      <th>class</th>\n",
       "    </tr>\n",
       "  </thead>\n",
       "  <tbody>\n",
       "    <tr>\n",
       "      <th>0</th>\n",
       "      <td>1.3.6.1.4.1.14519.5.2.1.6279.6001.100225287222...</td>\n",
       "      <td>-56.08</td>\n",
       "      <td>-67.85</td>\n",
       "      <td>-311.92</td>\n",
       "      <td>0</td>\n",
       "    </tr>\n",
       "    <tr>\n",
       "      <th>1</th>\n",
       "      <td>1.3.6.1.4.1.14519.5.2.1.6279.6001.100225287222...</td>\n",
       "      <td>53.21</td>\n",
       "      <td>-244.41</td>\n",
       "      <td>-245.17</td>\n",
       "      <td>0</td>\n",
       "    </tr>\n",
       "    <tr>\n",
       "      <th>2</th>\n",
       "      <td>1.3.6.1.4.1.14519.5.2.1.6279.6001.100225287222...</td>\n",
       "      <td>103.66</td>\n",
       "      <td>-121.80</td>\n",
       "      <td>-286.62</td>\n",
       "      <td>0</td>\n",
       "    </tr>\n",
       "    <tr>\n",
       "      <th>3</th>\n",
       "      <td>1.3.6.1.4.1.14519.5.2.1.6279.6001.100225287222...</td>\n",
       "      <td>-33.66</td>\n",
       "      <td>-72.75</td>\n",
       "      <td>-308.41</td>\n",
       "      <td>0</td>\n",
       "    </tr>\n",
       "    <tr>\n",
       "      <th>4</th>\n",
       "      <td>1.3.6.1.4.1.14519.5.2.1.6279.6001.100225287222...</td>\n",
       "      <td>-32.25</td>\n",
       "      <td>-85.36</td>\n",
       "      <td>-362.51</td>\n",
       "      <td>0</td>\n",
       "    </tr>\n",
       "  </tbody>\n",
       "</table>\n",
       "</div>"
      ],
      "text/plain": [
       "                                           seriesuid  coordX  coordY  coordZ  \\\n",
       "0  1.3.6.1.4.1.14519.5.2.1.6279.6001.100225287222...  -56.08  -67.85 -311.92   \n",
       "1  1.3.6.1.4.1.14519.5.2.1.6279.6001.100225287222...   53.21 -244.41 -245.17   \n",
       "2  1.3.6.1.4.1.14519.5.2.1.6279.6001.100225287222...  103.66 -121.80 -286.62   \n",
       "3  1.3.6.1.4.1.14519.5.2.1.6279.6001.100225287222...  -33.66  -72.75 -308.41   \n",
       "4  1.3.6.1.4.1.14519.5.2.1.6279.6001.100225287222...  -32.25  -85.36 -362.51   \n",
       "\n",
       "   class  \n",
       "0      0  \n",
       "1      0  \n",
       "2      0  \n",
       "3      0  \n",
       "4      0  "
      ]
     },
     "execution_count": 4,
     "metadata": {},
     "output_type": "execute_result"
    }
   ],
   "source": [
    "candidates_df = pd.read_csv(candidates)\n",
    "candidates_df.head()"
   ]
  },
  {
   "cell_type": "code",
   "execution_count": 5,
   "metadata": {
    "ExecuteTime": {
     "end_time": "2020-10-05T02:38:24.655604Z",
     "start_time": "2020-10-05T02:38:24.563844Z"
    }
   },
   "outputs": [
    {
     "data": {
      "text/plain": [
       "8.368487     1\n",
       "5.126102     1\n",
       "23.043448    1\n",
       "23.571562    1\n",
       "5.217135     1\n",
       "            ..\n",
       "20.389225    1\n",
       "6.022566     1\n",
       "7.754485     1\n",
       "5.838910     1\n",
       "4.023706     1\n",
       "Name: diameter_mm, Length: 1186, dtype: int64"
      ]
     },
     "execution_count": 5,
     "metadata": {},
     "output_type": "execute_result"
    }
   ],
   "source": [
    "annotations_df[\"diameter_mm\"].value_counts()"
   ]
  },
  {
   "cell_type": "code",
   "execution_count": 6,
   "metadata": {
    "ExecuteTime": {
     "end_time": "2020-10-05T02:38:28.559808Z",
     "start_time": "2020-10-05T02:38:28.555335Z"
    }
   },
   "outputs": [
    {
     "name": "stdout",
     "output_type": "stream",
     "text": [
      "(1186, 5)\n"
     ]
    },
    {
     "data": {
      "text/plain": [
       "601"
      ]
     },
     "execution_count": 6,
     "metadata": {},
     "output_type": "execute_result"
    }
   ],
   "source": [
    "print(annotations_df.shape)\n",
    "annotations_df.seriesuid.nunique()"
   ]
  },
  {
   "cell_type": "code",
   "execution_count": 7,
   "metadata": {
    "ExecuteTime": {
     "end_time": "2020-10-05T02:38:29.265128Z",
     "start_time": "2020-10-05T02:38:29.222182Z"
    }
   },
   "outputs": [
    {
     "name": "stdout",
     "output_type": "stream",
     "text": [
      "(551065, 5)\n"
     ]
    },
    {
     "data": {
      "text/plain": [
       "888"
      ]
     },
     "execution_count": 7,
     "metadata": {},
     "output_type": "execute_result"
    }
   ],
   "source": [
    "print(candidates_df.shape)\n",
    "candidates_df.seriesuid.nunique()"
   ]
  },
  {
   "cell_type": "code",
   "execution_count": 9,
   "metadata": {
    "ExecuteTime": {
     "end_time": "2020-10-04T03:28:10.929051Z",
     "start_time": "2020-10-04T03:23:44.637442Z"
    }
   },
   "outputs": [],
   "source": [
    "diameters = [0]*len(candidates_df)\n",
    "for  idx, row in candidates_df.iterrows():\n",
    "    s_uid, x, y, z, label = row\n",
    "    diameter_table = annotations_df.loc[annotations_df[\"seriesuid\"]==s_uid]\n",
    "    for _, a_row in diameter_table.iterrows():\n",
    "        _a, a_x, a_y, a_z, dia = a_row\n",
    "        if  all([abs(i-j)<=(dia/4) for i,j in zip([a_x, a_y, a_z], [x,y,z])]):\n",
    "            diameters[idx] = dia\n",
    "            break\n",
    "            "
   ]
  },
  {
   "cell_type": "code",
   "execution_count": 10,
   "metadata": {
    "ExecuteTime": {
     "end_time": "2020-10-04T03:28:11.028015Z",
     "start_time": "2020-10-04T03:28:10.930130Z"
    }
   },
   "outputs": [],
   "source": [
    "candidates_df[\"diameters\"] = diameters"
   ]
  },
  {
   "cell_type": "code",
   "execution_count": 11,
   "metadata": {
    "ExecuteTime": {
     "end_time": "2020-10-04T03:28:11.283977Z",
     "start_time": "2020-10-04T03:28:11.029214Z"
    }
   },
   "outputs": [
    {
     "data": {
      "text/html": [
       "<div>\n",
       "<style scoped>\n",
       "    .dataframe tbody tr th:only-of-type {\n",
       "        vertical-align: middle;\n",
       "    }\n",
       "\n",
       "    .dataframe tbody tr th {\n",
       "        vertical-align: top;\n",
       "    }\n",
       "\n",
       "    .dataframe thead th {\n",
       "        text-align: right;\n",
       "    }\n",
       "</style>\n",
       "<table border=\"1\" class=\"dataframe\">\n",
       "  <thead>\n",
       "    <tr style=\"text-align: right;\">\n",
       "      <th></th>\n",
       "      <th>coordX</th>\n",
       "      <th>coordY</th>\n",
       "      <th>coordZ</th>\n",
       "      <th>class</th>\n",
       "      <th>diameters</th>\n",
       "    </tr>\n",
       "  </thead>\n",
       "  <tbody>\n",
       "    <tr>\n",
       "      <th>count</th>\n",
       "      <td>551065.000000</td>\n",
       "      <td>551065.000000</td>\n",
       "      <td>551065.000000</td>\n",
       "      <td>551065.000000</td>\n",
       "      <td>551065.000000</td>\n",
       "    </tr>\n",
       "    <tr>\n",
       "      <th>mean</th>\n",
       "      <td>-2.005825</td>\n",
       "      <td>8.944721</td>\n",
       "      <td>-157.857852</td>\n",
       "      <td>0.002452</td>\n",
       "      <td>0.016987</td>\n",
       "    </tr>\n",
       "    <tr>\n",
       "      <th>std</th>\n",
       "      <td>71.711619</td>\n",
       "      <td>89.428035</td>\n",
       "      <td>277.212320</td>\n",
       "      <td>0.049453</td>\n",
       "      <td>0.457490</td>\n",
       "    </tr>\n",
       "    <tr>\n",
       "      <th>min</th>\n",
       "      <td>-201.113500</td>\n",
       "      <td>-317.330000</td>\n",
       "      <td>-895.220000</td>\n",
       "      <td>0.000000</td>\n",
       "      <td>0.000000</td>\n",
       "    </tr>\n",
       "    <tr>\n",
       "      <th>25%</th>\n",
       "      <td>-62.126786</td>\n",
       "      <td>-35.780058</td>\n",
       "      <td>-224.790000</td>\n",
       "      <td>0.000000</td>\n",
       "      <td>0.000000</td>\n",
       "    </tr>\n",
       "    <tr>\n",
       "      <th>50%</th>\n",
       "      <td>-17.271143</td>\n",
       "      <td>19.610000</td>\n",
       "      <td>-172.405402</td>\n",
       "      <td>0.000000</td>\n",
       "      <td>0.000000</td>\n",
       "    </tr>\n",
       "    <tr>\n",
       "      <th>75%</th>\n",
       "      <td>61.870000</td>\n",
       "      <td>59.080000</td>\n",
       "      <td>-120.132968</td>\n",
       "      <td>0.000000</td>\n",
       "      <td>0.000000</td>\n",
       "    </tr>\n",
       "    <tr>\n",
       "      <th>max</th>\n",
       "      <td>217.433291</td>\n",
       "      <td>292.380000</td>\n",
       "      <td>1906.140031</td>\n",
       "      <td>1.000000</td>\n",
       "      <td>32.270030</td>\n",
       "    </tr>\n",
       "  </tbody>\n",
       "</table>\n",
       "</div>"
      ],
      "text/plain": [
       "              coordX         coordY         coordZ          class  \\\n",
       "count  551065.000000  551065.000000  551065.000000  551065.000000   \n",
       "mean       -2.005825       8.944721    -157.857852       0.002452   \n",
       "std        71.711619      89.428035     277.212320       0.049453   \n",
       "min      -201.113500    -317.330000    -895.220000       0.000000   \n",
       "25%       -62.126786     -35.780058    -224.790000       0.000000   \n",
       "50%       -17.271143      19.610000    -172.405402       0.000000   \n",
       "75%        61.870000      59.080000    -120.132968       0.000000   \n",
       "max       217.433291     292.380000    1906.140031       1.000000   \n",
       "\n",
       "           diameters  \n",
       "count  551065.000000  \n",
       "mean        0.016987  \n",
       "std         0.457490  \n",
       "min         0.000000  \n",
       "25%         0.000000  \n",
       "50%         0.000000  \n",
       "75%         0.000000  \n",
       "max        32.270030  "
      ]
     },
     "execution_count": 11,
     "metadata": {},
     "output_type": "execute_result"
    }
   ],
   "source": [
    "candidates_df.describe()"
   ]
  },
  {
   "cell_type": "code",
   "execution_count": 32,
   "metadata": {
    "ExecuteTime": {
     "end_time": "2020-09-11T03:19:08.530198Z",
     "start_time": "2020-09-11T03:19:08.526337Z"
    }
   },
   "outputs": [
    {
     "data": {
      "text/plain": [
       "(551065, 6)"
      ]
     },
     "execution_count": 32,
     "metadata": {},
     "output_type": "execute_result"
    }
   ],
   "source": [
    "candidates_df.shape"
   ]
  },
  {
   "cell_type": "code",
   "execution_count": 34,
   "metadata": {
    "ExecuteTime": {
     "end_time": "2020-09-11T03:21:38.586341Z",
     "start_time": "2020-09-11T03:21:38.576208Z"
    }
   },
   "outputs": [
    {
     "data": {
      "text/html": [
       "<div>\n",
       "<style scoped>\n",
       "    .dataframe tbody tr th:only-of-type {\n",
       "        vertical-align: middle;\n",
       "    }\n",
       "\n",
       "    .dataframe tbody tr th {\n",
       "        vertical-align: top;\n",
       "    }\n",
       "\n",
       "    .dataframe thead th {\n",
       "        text-align: right;\n",
       "    }\n",
       "</style>\n",
       "<table border=\"1\" class=\"dataframe\">\n",
       "  <thead>\n",
       "    <tr style=\"text-align: right;\">\n",
       "      <th></th>\n",
       "      <th>seriesuid</th>\n",
       "      <th>coordX</th>\n",
       "      <th>coordY</th>\n",
       "      <th>coordZ</th>\n",
       "      <th>class</th>\n",
       "      <th>diameters</th>\n",
       "    </tr>\n",
       "  </thead>\n",
       "  <tbody>\n",
       "    <tr>\n",
       "      <th>0</th>\n",
       "      <td>1.3.6.1.4.1.14519.5.2.1.6279.6001.100225287222...</td>\n",
       "      <td>-56.08</td>\n",
       "      <td>-67.85</td>\n",
       "      <td>-311.92</td>\n",
       "      <td>0</td>\n",
       "      <td>0.0</td>\n",
       "    </tr>\n",
       "    <tr>\n",
       "      <th>1</th>\n",
       "      <td>1.3.6.1.4.1.14519.5.2.1.6279.6001.100225287222...</td>\n",
       "      <td>53.21</td>\n",
       "      <td>-244.41</td>\n",
       "      <td>-245.17</td>\n",
       "      <td>0</td>\n",
       "      <td>0.0</td>\n",
       "    </tr>\n",
       "    <tr>\n",
       "      <th>2</th>\n",
       "      <td>1.3.6.1.4.1.14519.5.2.1.6279.6001.100225287222...</td>\n",
       "      <td>103.66</td>\n",
       "      <td>-121.80</td>\n",
       "      <td>-286.62</td>\n",
       "      <td>0</td>\n",
       "      <td>0.0</td>\n",
       "    </tr>\n",
       "    <tr>\n",
       "      <th>3</th>\n",
       "      <td>1.3.6.1.4.1.14519.5.2.1.6279.6001.100225287222...</td>\n",
       "      <td>-33.66</td>\n",
       "      <td>-72.75</td>\n",
       "      <td>-308.41</td>\n",
       "      <td>0</td>\n",
       "      <td>0.0</td>\n",
       "    </tr>\n",
       "    <tr>\n",
       "      <th>4</th>\n",
       "      <td>1.3.6.1.4.1.14519.5.2.1.6279.6001.100225287222...</td>\n",
       "      <td>-32.25</td>\n",
       "      <td>-85.36</td>\n",
       "      <td>-362.51</td>\n",
       "      <td>0</td>\n",
       "      <td>0.0</td>\n",
       "    </tr>\n",
       "  </tbody>\n",
       "</table>\n",
       "</div>"
      ],
      "text/plain": [
       "                                           seriesuid  coordX  coordY  coordZ  \\\n",
       "0  1.3.6.1.4.1.14519.5.2.1.6279.6001.100225287222...  -56.08  -67.85 -311.92   \n",
       "1  1.3.6.1.4.1.14519.5.2.1.6279.6001.100225287222...   53.21 -244.41 -245.17   \n",
       "2  1.3.6.1.4.1.14519.5.2.1.6279.6001.100225287222...  103.66 -121.80 -286.62   \n",
       "3  1.3.6.1.4.1.14519.5.2.1.6279.6001.100225287222...  -33.66  -72.75 -308.41   \n",
       "4  1.3.6.1.4.1.14519.5.2.1.6279.6001.100225287222...  -32.25  -85.36 -362.51   \n",
       "\n",
       "   class  diameters  \n",
       "0      0        0.0  \n",
       "1      0        0.0  \n",
       "2      0        0.0  \n",
       "3      0        0.0  \n",
       "4      0        0.0  "
      ]
     },
     "execution_count": 34,
     "metadata": {},
     "output_type": "execute_result"
    }
   ],
   "source": [
    "candidates_df.head()"
   ]
  },
  {
   "cell_type": "code",
   "execution_count": 15,
   "metadata": {
    "ExecuteTime": {
     "end_time": "2020-10-04T03:33:17.190331Z",
     "start_time": "2020-10-04T03:33:17.157162Z"
    }
   },
   "outputs": [],
   "source": [
    "candidates_df.sort_values(\"diameters\", inplace=True)"
   ]
  },
  {
   "cell_type": "code",
   "execution_count": 16,
   "metadata": {
    "ExecuteTime": {
     "end_time": "2020-10-04T03:33:22.016676Z",
     "start_time": "2020-10-04T03:33:22.007540Z"
    }
   },
   "outputs": [
    {
     "data": {
      "text/html": [
       "<div>\n",
       "<style scoped>\n",
       "    .dataframe tbody tr th:only-of-type {\n",
       "        vertical-align: middle;\n",
       "    }\n",
       "\n",
       "    .dataframe tbody tr th {\n",
       "        vertical-align: top;\n",
       "    }\n",
       "\n",
       "    .dataframe thead th {\n",
       "        text-align: right;\n",
       "    }\n",
       "</style>\n",
       "<table border=\"1\" class=\"dataframe\">\n",
       "  <thead>\n",
       "    <tr style=\"text-align: right;\">\n",
       "      <th></th>\n",
       "      <th>seriesuid</th>\n",
       "      <th>coordX</th>\n",
       "      <th>coordY</th>\n",
       "      <th>coordZ</th>\n",
       "      <th>class</th>\n",
       "      <th>diameters</th>\n",
       "    </tr>\n",
       "  </thead>\n",
       "  <tbody>\n",
       "    <tr>\n",
       "      <th>538550</th>\n",
       "      <td>1.3.6.1.4.1.14519.5.2.1.6279.6001.943403138251...</td>\n",
       "      <td>-45.294402</td>\n",
       "      <td>74.869254</td>\n",
       "      <td>-97.528125</td>\n",
       "      <td>1</td>\n",
       "      <td>27.442423</td>\n",
       "    </tr>\n",
       "    <tr>\n",
       "      <th>21367</th>\n",
       "      <td>1.3.6.1.4.1.14519.5.2.1.6279.6001.112740418331...</td>\n",
       "      <td>40.690000</td>\n",
       "      <td>32.190000</td>\n",
       "      <td>-97.150000</td>\n",
       "      <td>1</td>\n",
       "      <td>30.610406</td>\n",
       "    </tr>\n",
       "    <tr>\n",
       "      <th>21354</th>\n",
       "      <td>1.3.6.1.4.1.14519.5.2.1.6279.6001.112740418331...</td>\n",
       "      <td>44.190000</td>\n",
       "      <td>37.790000</td>\n",
       "      <td>-107.010000</td>\n",
       "      <td>1</td>\n",
       "      <td>30.610406</td>\n",
       "    </tr>\n",
       "    <tr>\n",
       "      <th>21730</th>\n",
       "      <td>1.3.6.1.4.1.14519.5.2.1.6279.6001.112740418331...</td>\n",
       "      <td>47.903505</td>\n",
       "      <td>37.604420</td>\n",
       "      <td>-99.934176</td>\n",
       "      <td>1</td>\n",
       "      <td>30.610406</td>\n",
       "    </tr>\n",
       "    <tr>\n",
       "      <th>333141</th>\n",
       "      <td>1.3.6.1.4.1.14519.5.2.1.6279.6001.287966244644...</td>\n",
       "      <td>67.614517</td>\n",
       "      <td>85.025260</td>\n",
       "      <td>-109.808442</td>\n",
       "      <td>1</td>\n",
       "      <td>32.270030</td>\n",
       "    </tr>\n",
       "  </tbody>\n",
       "</table>\n",
       "</div>"
      ],
      "text/plain": [
       "                                                seriesuid     coordX  \\\n",
       "538550  1.3.6.1.4.1.14519.5.2.1.6279.6001.943403138251... -45.294402   \n",
       "21367   1.3.6.1.4.1.14519.5.2.1.6279.6001.112740418331...  40.690000   \n",
       "21354   1.3.6.1.4.1.14519.5.2.1.6279.6001.112740418331...  44.190000   \n",
       "21730   1.3.6.1.4.1.14519.5.2.1.6279.6001.112740418331...  47.903505   \n",
       "333141  1.3.6.1.4.1.14519.5.2.1.6279.6001.287966244644...  67.614517   \n",
       "\n",
       "           coordY      coordZ  class  diameters  \n",
       "538550  74.869254  -97.528125      1  27.442423  \n",
       "21367   32.190000  -97.150000      1  30.610406  \n",
       "21354   37.790000 -107.010000      1  30.610406  \n",
       "21730   37.604420  -99.934176      1  30.610406  \n",
       "333141  85.025260 -109.808442      1  32.270030  "
      ]
     },
     "execution_count": 16,
     "metadata": {},
     "output_type": "execute_result"
    }
   ],
   "source": [
    "candidates_df.tail()"
   ]
  },
  {
   "cell_type": "code",
   "execution_count": 20,
   "metadata": {
    "ExecuteTime": {
     "end_time": "2020-10-04T03:34:48.304881Z",
     "start_time": "2020-10-04T03:34:48.300526Z"
    }
   },
   "outputs": [
    {
     "data": {
      "text/plain": [
       "175098    0.0\n",
       "Name: diameters, dtype: float64"
      ]
     },
     "execution_count": 20,
     "metadata": {},
     "output_type": "execute_result"
    }
   ],
   "source": []
  },
  {
   "cell_type": "code",
   "execution_count": 18,
   "metadata": {
    "ExecuteTime": {
     "end_time": "2020-10-04T03:34:19.594295Z",
     "start_time": "2020-10-04T03:34:19.587157Z"
    }
   },
   "outputs": [
    {
     "name": "stdout",
     "output_type": "stream",
     "text": [
      "0 - 0.0\n",
      "10000 - 0.0\n",
      "20000 - 0.0\n",
      "30000 - 0.0\n",
      "40000 - 0.0\n",
      "50000 - 0.0\n",
      "60000 - 0.0\n",
      "70000 - 0.0\n",
      "80000 - 0.0\n",
      "90000 - 0.0\n",
      "100000 - 0.0\n",
      "110000 - 0.0\n",
      "120000 - 0.0\n",
      "130000 - 0.0\n",
      "140000 - 0.0\n",
      "150000 - 0.0\n",
      "160000 - 0.0\n",
      "170000 - 0.0\n",
      "180000 - 0.0\n",
      "190000 - 0.0\n",
      "200000 - 0.0\n",
      "210000 - 0.0\n",
      "220000 - 0.0\n",
      "230000 - 0.0\n",
      "240000 - 0.0\n",
      "250000 - 0.0\n",
      "260000 - 0.0\n",
      "270000 - 0.0\n",
      "280000 - 0.0\n",
      "290000 - 0.0\n",
      "300000 - 0.0\n",
      "310000 - 0.0\n",
      "320000 - 0.0\n",
      "330000 - 0.0\n",
      "340000 - 0.0\n",
      "350000 - 0.0\n",
      "360000 - 0.0\n",
      "370000 - 0.0\n",
      "380000 - 0.0\n",
      "390000 - 0.0\n",
      "400000 - 0.0\n",
      "410000 - 0.0\n",
      "420000 - 0.0\n",
      "430000 - 0.0\n",
      "440000 - 0.0\n",
      "450000 - 0.0\n",
      "460000 - 0.0\n",
      "470000 - 0.0\n",
      "480000 - 0.0\n",
      "490000 - 0.0\n",
      "500000 - 0.0\n",
      "510000 - 0.0\n",
      "520000 - 0.0\n",
      "530000 - 0.0\n",
      "540000 - 0.0\n",
      "550000 - 0.0\n"
     ]
    }
   ],
   "source": [
    "dia = candidates_df[\"diameters\"]\n",
    "for i in range(0, len(dia), 10000):\n",
    "    print(f\"{i} - {dia[i]}\")"
   ]
  },
  {
   "cell_type": "code",
   "execution_count": 21,
   "metadata": {
    "ExecuteTime": {
     "end_time": "2020-10-04T03:39:49.263480Z",
     "start_time": "2020-10-04T03:39:46.754481Z"
    }
   },
   "outputs": [],
   "source": [
    "candidates_df.to_csv(\"../data/candidates_with_dia.csv\", index=False)"
   ]
  },
  {
   "cell_type": "code",
   "execution_count": 8,
   "metadata": {
    "ExecuteTime": {
     "end_time": "2020-10-05T02:58:09.384004Z",
     "start_time": "2020-10-05T02:58:08.422799Z"
    }
   },
   "outputs": [
    {
     "data": {
      "text/plain": [
       "0.000000     550037\n",
       "24.773280         4\n",
       "23.350644         4\n",
       "24.782017         3\n",
       "30.610406         3\n",
       "              ...  \n",
       "3.297325          1\n",
       "8.727948          1\n",
       "4.910653          1\n",
       "10.417941         1\n",
       "4.936243          1\n",
       "Name: diameters, Length: 999, dtype: int64"
      ]
     },
     "execution_count": 8,
     "metadata": {},
     "output_type": "execute_result"
    }
   ],
   "source": [
    "candidates_df = pd.read_csv(\"../data/candidates_with_dia.csv\")\n",
    "candidates_df[\"diameters\"].value_counts()"
   ]
  },
  {
   "cell_type": "code",
   "execution_count": 12,
   "metadata": {
    "ExecuteTime": {
     "end_time": "2020-10-05T02:59:05.201008Z",
     "start_time": "2020-10-05T02:59:05.197817Z"
    }
   },
   "outputs": [
    {
     "data": {
      "text/plain": [
       "(551065, 6)"
      ]
     },
     "execution_count": 12,
     "metadata": {},
     "output_type": "execute_result"
    }
   ],
   "source": [
    "candidates_df.shape"
   ]
  },
  {
   "cell_type": "code",
   "execution_count": 13,
   "metadata": {
    "ExecuteTime": {
     "end_time": "2020-10-05T03:00:28.384513Z",
     "start_time": "2020-10-05T03:00:28.379658Z"
    }
   },
   "outputs": [],
   "source": [
    "val_set = candidates_df.iloc[::10, :].reset_index(drop=True)"
   ]
  },
  {
   "cell_type": "code",
   "execution_count": 17,
   "metadata": {
    "ExecuteTime": {
     "end_time": "2020-10-05T03:01:30.995383Z",
     "start_time": "2020-10-05T03:01:30.956358Z"
    }
   },
   "outputs": [],
   "source": [
    "train_set = candidates_df.drop(candidates_df.index[::10]).reset_index(drop=True)"
   ]
  },
  {
   "cell_type": "code",
   "execution_count": 18,
   "metadata": {
    "ExecuteTime": {
     "end_time": "2020-10-05T03:01:46.016733Z",
     "start_time": "2020-10-05T03:01:46.012189Z"
    }
   },
   "outputs": [
    {
     "data": {
      "text/plain": [
       "551065"
      ]
     },
     "execution_count": 18,
     "metadata": {},
     "output_type": "execute_result"
    }
   ],
   "source": [
    "val_set.shape[0] + train_set.shape[0]"
   ]
  },
  {
   "cell_type": "code",
   "execution_count": 19,
   "metadata": {
    "ExecuteTime": {
     "end_time": "2020-10-05T03:03:00.786600Z",
     "start_time": "2020-10-05T03:03:00.782964Z"
    }
   },
   "outputs": [
    {
     "data": {
      "text/plain": [
       "Index(['seriesuid', 'coordX', 'coordY', 'coordZ', 'class', 'diameters'], dtype='object')"
      ]
     },
     "execution_count": 19,
     "metadata": {},
     "output_type": "execute_result"
    }
   ],
   "source": [
    "train_set.columns"
   ]
  },
  {
   "cell_type": "code",
   "execution_count": 20,
   "metadata": {
    "ExecuteTime": {
     "end_time": "2020-10-05T03:04:34.433511Z",
     "start_time": "2020-10-05T03:04:34.429833Z"
    }
   },
   "outputs": [],
   "source": [
    "seriesuid, coordX, coordY, coordZ, nodule_class, diameter = train_set.iloc[2, :] \n"
   ]
  },
  {
   "cell_type": "code",
   "execution_count": 25,
   "metadata": {
    "ExecuteTime": {
     "end_time": "2020-10-05T03:14:44.332920Z",
     "start_time": "2020-10-05T03:14:44.330182Z"
    }
   },
   "outputs": [
    {
     "data": {
      "text/plain": [
       "'1.3.6.1.4.1.14519.5.2.1.6279.6001.307921770358136677021532761235'"
      ]
     },
     "execution_count": 25,
     "metadata": {},
     "output_type": "execute_result"
    }
   ],
   "source": [
    "seriesuid"
   ]
  },
  {
   "cell_type": "code",
   "execution_count": null,
   "metadata": {},
   "outputs": [],
   "source": []
  }
 ],
 "metadata": {
  "kernelspec": {
   "display_name": "Python 3",
   "language": "python",
   "name": "python3"
  },
  "language_info": {
   "codemirror_mode": {
    "name": "ipython",
    "version": 3
   },
   "file_extension": ".py",
   "mimetype": "text/x-python",
   "name": "python",
   "nbconvert_exporter": "python",
   "pygments_lexer": "ipython3",
   "version": "3.6.10"
  }
 },
 "nbformat": 4,
 "nbformat_minor": 4
}
